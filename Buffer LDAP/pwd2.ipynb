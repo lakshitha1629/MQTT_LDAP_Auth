{
 "cells": [
  {
   "cell_type": "code",
   "execution_count": 1,
   "metadata": {},
   "outputs": [],
   "source": [
    "import hashlib, binascii, os\n",
    "import sys\n",
    "\n",
    "# Check hashed password validity\n",
    "def verify_password(stored_password, provided_password):\n",
    "    \"\"\"Verify a stored password against one provided by user\"\"\"\n",
    "    salt = stored_password[:64]\n",
    "    stored_password = stored_password[64:]\n",
    "    pwdhash = hashlib.pbkdf2_hmac('sha512',\n",
    "                                  provided_password.encode('utf-8'),\n",
    "                                  salt.encode('ascii'),\n",
    "                                  100000)\n",
    "    pwdhash = binascii.hexlify(pwdhash).decode('ascii')\n",
    "#     print(pwdhash,provided_password,stored_password)\n",
    "    return pwdhash == stored_password\n",
    "\n"
   ]
  },
  {
   "cell_type": "code",
   "execution_count": 2,
   "metadata": {},
   "outputs": [
    {
     "name": "stdout",
     "output_type": "stream",
     "text": [
      "Passwords match\n"
     ]
    }
   ],
   "source": [
    "stored_password = \"5ce087a92d6b684fe3607fa387eb0b6ff91c97d62bb722b6ff6a1683cc89a89b6795d1c468018af26eb7cb67898f98a5b3a4bee807a13f0901d2a132126ae9c845434e2ee816c8cd4cf934680cc567399fae82da79f5a77cadff05da6cdc498a\"\n",
    "passwordss=\"1629\"\n",
    "\n",
    "# passwordss=\"979aee1d118cb487e1b48cb0fa5d27897f4e88adc606620f2de71a0ac44026142d18327a6c97f1a5083193e4608d68a9f2549899aa1bf522aa4917f541b532d0123\"\n",
    "checker = verify_password(stored_password, passwordss)\n",
    "\n",
    "if checker:\n",
    "    print(\"Passwords match\")\n",
    "\n",
    "else:\n",
    "    print(\"Password incorrect, try again.\")\n",
    "\n"
   ]
  },
  {
   "cell_type": "code",
   "execution_count": null,
   "metadata": {},
   "outputs": [],
   "source": []
  }
 ],
 "metadata": {
  "kernelspec": {
   "display_name": "Python 3",
   "language": "python",
   "name": "python3"
  },
  "language_info": {
   "codemirror_mode": {
    "name": "ipython",
    "version": 3
   },
   "file_extension": ".py",
   "mimetype": "text/x-python",
   "name": "python",
   "nbconvert_exporter": "python",
   "pygments_lexer": "ipython3",
   "version": "3.6.8"
  }
 },
 "nbformat": 4,
 "nbformat_minor": 2
}
