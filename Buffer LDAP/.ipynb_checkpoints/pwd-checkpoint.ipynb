{
 "cells": [
  {
   "cell_type": "code",
   "execution_count": 31,
   "metadata": {},
   "outputs": [
    {
     "name": "stdout",
     "output_type": "stream",
     "text": [
      "293ff02ad318b7a5cccdf5356d6b048db2a106c8c5d4ec27cff001b2bbea08bc7b73a6127a29a6dfd07e8f7c889feb4a4c9a3ff91202c28f48e1c0a564bb03998c8716bc3e04d3998e389fc93331aadab189d58be7cd37325ebc06e68c56401b\n"
     ]
    }
   ],
   "source": [
    "import hashlib, binascii, os\n",
    "import sys\n",
    "\n",
    "password = \"1629\"\n",
    "\n",
    "# password hashing\n",
    "def hash_password(hash_password):\n",
    "    \"\"\"Hash a password for storing.\"\"\"\n",
    "    salt = hashlib.sha256(os.urandom(60)).hexdigest().encode('ascii')\n",
    "    pwdhash = hashlib.pbkdf2_hmac('sha512', password.encode('utf-8'), \n",
    "                                salt, 100000)\n",
    "    pwdhash = binascii.hexlify(pwdhash)\n",
    "    return (salt + pwdhash).decode('ascii')\n",
    "\n",
    "print(hash_password(password))"
   ]
  },
  {
   "cell_type": "code",
   "execution_count": 1,
   "metadata": {},
   "outputs": [],
   "source": [
    "# Check hashed password validity\n",
    "def verify_password(stored_password, provided_password):\n",
    "    \"\"\"Verify a stored password against one provided by user\"\"\"\n",
    "    salt = stored_password[:64]\n",
    "    stored_password = stored_password[64:]\n",
    "    print(stored_password)\n",
    "#     pwdhash = hashlib.pbkdf2_hmac('sha512',\n",
    "#                                   provided_password.encode('utf-8'),\n",
    "#                                   salt.encode('ascii'),\n",
    "#                                   100000)\n",
    "#     pwdhash = binascii.hexlify(pwdhash).decode('ascii')\n",
    "    return provided_password == stored_password\n",
    "\n"
   ]
  },
  {
   "cell_type": "code",
   "execution_count": 2,
   "metadata": {},
   "outputs": [
    {
     "name": "stdout",
     "output_type": "stream",
     "text": [
      "979aee1d118cb487e1b48cb0fa5d27897f4e88adc606620f2de71a0ac44026142d18327a6c97f1a5083193e4608d68a9f2549899aa1bf522aa4917f541b532d0123\n",
      "Passwords match\n"
     ]
    }
   ],
   "source": [
    "stored_password = \"17a87910ab4119cec918a86b9108b326534e2f3b5e99f83280ada8a483c67f3c979aee1d118cb487e1b48cb0fa5d27897f4e88adc606620f2de71a0ac44026142d18327a6c97f1a5083193e4608d68a9f2549899aa1bf522aa4917f541b532d0123\"\n",
    "# passwordss=\"1629\"\n",
    "\n",
    "passwordss=\"979aee1d118cb487e1b48cb0fa5d27897f4e88adc606620f2de71a0ac44026142d18327a6c97f1a5083193e4608d68a9f2549899aa1bf522aa4917f541b532d0123\"\n",
    "checker = verify_password(stored_password, passwordss)\n",
    "\n",
    "if checker:\n",
    "    print(\"Passwords match\")\n",
    "\n",
    "else:\n",
    "    print(\"Password incorrect, try again.\")\n",
    "\n"
   ]
  },
  {
   "cell_type": "code",
   "execution_count": null,
   "metadata": {},
   "outputs": [],
   "source": []
  },
  {
   "cell_type": "code",
   "execution_count": null,
   "metadata": {},
   "outputs": [],
   "source": []
  }
 ],
 "metadata": {
  "kernelspec": {
   "display_name": "Python 3",
   "language": "python",
   "name": "python3"
  },
  "language_info": {
   "codemirror_mode": {
    "name": "ipython",
    "version": 3
   },
   "file_extension": ".py",
   "mimetype": "text/x-python",
   "name": "python",
   "nbconvert_exporter": "python",
   "pygments_lexer": "ipython3",
   "version": "3.6.8"
  }
 },
 "nbformat": 4,
 "nbformat_minor": 2
}
