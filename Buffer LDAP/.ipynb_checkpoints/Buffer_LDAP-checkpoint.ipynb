{
 "cells": [
  {
   "cell_type": "code",
   "execution_count": 3,
   "metadata": {},
   "outputs": [],
   "source": [
    "import random\n",
    "import time\n",
    "import paho.mqtt.client as mqtt_client\n",
    "import hashlib, binascii, os\n",
    "import ldap3\n",
    "from ldap3.core.exceptions import LDAPException\n",
    "\n",
    "# Buffer Value get userName and pwd\n",
    "def bufferReg(bufferValue):\n",
    "    string =bufferValue.decode('utf-8', 'ignore')\n",
    "    source= ''.join(e for e in string if e.isalnum())\n",
    "    result=[]\n",
    "    tmpUser=source.split('authdatausername')\n",
    "    tmpPwd=source.split('password', 1)\n",
    "    for par in tmpUser:\n",
    "        if 'password' in par:\n",
    "            result.append(par.split('password')[0])\n",
    "    return result[0],tmpPwd[1]\n",
    "\n",
    "# Check hashed password validity\n",
    "def verify_password(stored_password, provided_password):\n",
    "    \"\"\"Verify a stored password against one provided by user\"\"\"\n",
    "    salt = stored_password[:64]\n",
    "    stored_password = stored_password[64:]\n",
    "    pwdhash = hashlib.pbkdf2_hmac('sha512',\n",
    "                                  provided_password.encode('utf-8'),\n",
    "                                  salt.encode('ascii'),\n",
    "                                  100000)\n",
    "    pwdhash = binascii.hexlify(pwdhash).decode('ascii')\n",
    "#     print(pwdhash,provided_password,stored_password)\n",
    "    return pwdhash == stored_password\n",
    "        \n",
    "# ldap_login Auth\n",
    "def ldap_auth(ldap_server, username, password):\n",
    "    try:\n",
    "#         with ldap3.Connection(ldap_server, user=username, password=hash_password(password)) as conn:\n",
    "        with ldap3.Connection(ldap_server, user=username, password=password, auto_bind = True) as conn:\n",
    "            print(conn.result[\"description\"]) # \"success\" if bind is ok\n",
    "            return True\n",
    "    except LDAPException:\n",
    "        print('Unable to connect to LDAP server')\n",
    "        return False\n"
   ]
  },
  {
   "cell_type": "code",
   "execution_count": null,
   "metadata": {},
   "outputs": [],
   "source": []
  }
 ],
 "metadata": {
  "kernelspec": {
   "display_name": "Python 3",
   "language": "python",
   "name": "python3"
  },
  "language_info": {
   "codemirror_mode": {
    "name": "ipython",
    "version": 3
   },
   "file_extension": ".py",
   "mimetype": "text/x-python",
   "name": "python",
   "nbconvert_exporter": "python",
   "pygments_lexer": "ipython3",
   "version": "3.6.8"
  }
 },
 "nbformat": 4,
 "nbformat_minor": 2
}
