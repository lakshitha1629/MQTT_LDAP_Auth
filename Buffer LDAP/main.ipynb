{
 "cells": [
  {
   "cell_type": "code",
   "execution_count": 12,
   "metadata": {},
   "outputs": [
    {
     "name": "stdout",
     "output_type": "stream",
     "text": [
      "17a87910ab4119cec918a86b9108b326534e2f3b5e99f83280ada8a483c67f3c979aee1d118cb487e1b48cb0fa5d27897f4e88adc606620f2de71a0ac44026142d18327a6c97f1a5083193e4608d68a9f2549899aa1bf522aa4917f541b532d0123\n"
     ]
    }
   ],
   "source": [
    "import buffer_ldap\n",
    "import hashlib, binascii, os\n",
    "import sys\n",
    "\n",
    "if __name__ == '__main__':\n",
    "#     buffers = b'\\xf00\\x00\\x08authdata\"&\\x00\\x08username\\x00\\x04user&\\x00\\x08password\\x00\\x04password'\n",
    "    buffers = b'\\xf0\\xed\\x01\\x00\\x08authdata\\xde\\x01&\\x00\\x08username\\x00\\x04user&\\x00\\x08password\\x00\\xc017a87910ab4119cec918a86b9108b326534e2f3b5e99f83280ada8a483c67f3c979aee1d118cb487e1b48cb0fa5d27897f4e88adc606620f2de71a0ac44026142d18327a6c97f1a5083193e4608d68a9f2549899aa1bf522aa4917f541b532d0123'\n",
    "\n",
    "    ldap_server = \"ldap.forumsys.com\"\n",
    "    bufferUsername, bufferPassword = buffer_ldap.bufferReg(buffers)\n",
    "    username = \"cn=read-only-admin,dc=example,dc=com\"\n",
    "#     username = \"cn={},dc=example,dc=com\".format(bufferUsername)\n",
    "    password = bufferPassword\n",
    "    print(password)\n",
    "#     ldap_status = buffer_ldap.ldap_auth(ldap_server, username, password)\n",
    "#     if(ldap_status):\n",
    "#         print(\"LDAP server - Authenticated successfully. \");\n",
    "#     else:\n",
    "#         print(\"LDAP server - User name and password do not match\");"
   ]
  },
  {
   "cell_type": "code",
   "execution_count": null,
   "metadata": {},
   "outputs": [],
   "source": []
  }
 ],
 "metadata": {
  "kernelspec": {
   "display_name": "Python 3",
   "language": "python",
   "name": "python3"
  },
  "language_info": {
   "codemirror_mode": {
    "name": "ipython",
    "version": 3
   },
   "file_extension": ".py",
   "mimetype": "text/x-python",
   "name": "python",
   "nbconvert_exporter": "python",
   "pygments_lexer": "ipython3",
   "version": "3.6.8"
  }
 },
 "nbformat": 4,
 "nbformat_minor": 2
}
