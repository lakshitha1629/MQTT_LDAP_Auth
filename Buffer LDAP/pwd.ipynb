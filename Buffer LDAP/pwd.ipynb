{
 "cells": [
  {
   "cell_type": "code",
   "execution_count": null,
   "metadata": {},
   "outputs": [],
   "source": [
    "import hashlib, binascii, os\n",
    "import sys\n",
    "\n",
    "password = \"1629\"\n",
    "\n",
    "# password hashing\n",
    "def hash_password(hash_password):\n",
    "    \"\"\"Hash a password for storing.\"\"\"\n",
    "    salt = hashlib.sha256(os.urandom(60)).hexdigest().encode('ascii')\n",
    "    pwdhash = hashlib.pbkdf2_hmac('sha512', password.encode('utf-8'), \n",
    "                                salt, 100000)\n",
    "    pwdhash = binascii.hexlify(pwdhash)\n",
    "    return (salt + pwdhash).decode('ascii')\n",
    "\n",
    "print(hash_password(password))"
   ]
  },
  {
   "cell_type": "code",
   "execution_count": null,
   "metadata": {},
   "outputs": [],
   "source": [
    "# Check hashed password validity\n",
    "def verify_password(stored_password, provided_password):\n",
    "    \"\"\"Verify a stored password against one provided by user\"\"\"\n",
    "    salt = stored_password[:64]\n",
    "    stored_password = stored_password[64:]\n",
    "    print(stored_password)\n",
    "#     pwdhash = hashlib.pbkdf2_hmac('sha512',\n",
    "#                                   provided_password.encode('utf-8'),\n",
    "#                                   salt.encode('ascii'),\n",
    "#                                   100000)\n",
    "#     pwdhash = binascii.hexlify(pwdhash).decode('ascii')\n",
    "    return provided_password == stored_password\n",
    "\n"
   ]
  },
  {
   "cell_type": "code",
   "execution_count": null,
   "metadata": {},
   "outputs": [],
   "source": [
    "stored_password = \"0a0bd169a3b5c4162645b89cac0d7c8221679d55147e0c29a18d1e9fa822f9d0c296839418374312983387232b13ad320db1edac695c47e742785490ff7696150a301d9e129acb81c5380cec21d5da474d67b6aaa4c2de21eab24874497de78d\"\n",
    "# passwordss=\"1629\"\n",
    "\n",
    "passwordss=\"c296839418374312983387232b13ad320db1edac695c47e742785490ff7696150a301d9e129acb81c5380cec21d5da474d67b6aaa4c2de21eab24874497de78d\"\n",
    "checker = verify_password(stored_password, passwordss)\n",
    "\n",
    "if checker:\n",
    "    print(\"Passwords match\")\n",
    "\n",
    "else:\n",
    "    print(\"Password incorrect, try again.\")\n",
    "\n"
   ]
  },
  {
   "cell_type": "code",
   "execution_count": null,
   "metadata": {},
   "outputs": [],
   "source": []
  }
 ],
 "metadata": {
  "kernelspec": {
   "display_name": "Python 3",
   "language": "python",
   "name": "python3"
  },
  "language_info": {
   "codemirror_mode": {
    "name": "ipython",
    "version": 3
   },
   "file_extension": ".py",
   "mimetype": "text/x-python",
   "name": "python",
   "nbconvert_exporter": "python",
   "pygments_lexer": "ipython3",
   "version": "3.6.8"
  }
 },
 "nbformat": 4,
 "nbformat_minor": 2
}
