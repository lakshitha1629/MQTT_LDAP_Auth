{
 "cells": [
  {
   "cell_type": "code",
   "execution_count": 1,
   "metadata": {},
   "outputs": [
    {
     "name": "stdout",
     "output_type": "stream",
     "text": [
      "cn=read-only-admin,dc=example,dc=com password\n",
      "success\n",
      "LDAP server - Authenticated successfully. \n"
     ]
    }
   ],
   "source": [
    "import random\n",
    "import time\n",
    "import paho.mqtt.client as mqtt_client\n",
    "import hashlib, binascii, os\n",
    "import ldap3\n",
    "from ldap3.core.exceptions import LDAPException\n",
    "\n",
    "# Buffer Value get userName and pwd\n",
    "def bufferReg(bufferValue):\n",
    "    string =bufferValue.decode('utf-8', 'ignore')\n",
    "    source= ''.join(e for e in string if e.isalnum())\n",
    "    result=[]\n",
    "    tmpUser=source.split('authdatausername')\n",
    "    tmpPwd=source.split('password', 1)\n",
    "    for par in tmpUser:\n",
    "        if 'password' in par:\n",
    "            result.append(par.split('password')[0])\n",
    "    return result[0],tmpPwd[1]\n",
    "        \n",
    "# ldap_login Auth\n",
    "def ldap_auth(ldap_server, username, password):\n",
    "    try:\n",
    "#         with ldap3.Connection(ldap_server, user=username, password=hash_password(password)) as conn:\n",
    "        with ldap3.Connection(ldap_server, user=username, password=password, auto_bind = True) as conn:\n",
    "            print(conn.result[\"description\"]) # \"success\" if bind is ok\n",
    "            return True\n",
    "    except LDAPException:\n",
    "        print('Unable to connect to LDAP server')\n",
    "        return False\n",
    "    \n",
    "# ldap_login verification\n",
    "def run():\n",
    "    ldap_status = ldap_auth(ldap_server, username, password)\n",
    "    if(ldap_status):\n",
    "        print(\"LDAP server - Authenticated successfully. \");\n",
    "    else:\n",
    "        print(\"LDAP server - User name and password do not match\");\n",
    "\n",
    "\n",
    "if __name__ == '__main__':\n",
    "    buffers = b'\\xf00\\x00\\x08authdata\"&\\x00\\x08username\\x00\\x04user&\\x00\\x08password\\x00\\x04password'\n",
    "    ldap_server = \"ldap.forumsys.com\"\n",
    "    bufferUsername, bufferPassword = bufferReg(buffers)\n",
    "    username = \"cn=read-only-admin,dc=example,dc=com\"\n",
    "#     username = \"cn={},dc=example,dc=com\".format(bufferUsername)\n",
    "    password = bufferPassword\n",
    "    print(username, password)\n",
    "    run()"
   ]
  },
  {
   "cell_type": "code",
   "execution_count": null,
   "metadata": {},
   "outputs": [],
   "source": []
  }
 ],
 "metadata": {
  "kernelspec": {
   "display_name": "Python 3",
   "language": "python",
   "name": "python3"
  },
  "language_info": {
   "codemirror_mode": {
    "name": "ipython",
    "version": 3
   },
   "file_extension": ".py",
   "mimetype": "text/x-python",
   "name": "python",
   "nbconvert_exporter": "python",
   "pygments_lexer": "ipython3",
   "version": "3.6.8"
  }
 },
 "nbformat": 4,
 "nbformat_minor": 2
}
