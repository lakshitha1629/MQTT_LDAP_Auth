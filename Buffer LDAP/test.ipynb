{
 "cells": [
  {
   "cell_type": "code",
   "execution_count": null,
   "metadata": {},
   "outputs": [],
   "source": [
    "def unpack(self, buffer, maximumPacketSize):\n",
    "    assert len(buffer) >= 2\n",
    "    assert PacketType(buffer) == PacketTypes.AUTH\n",
    "    fhlen = self.fh.unpack(buffer, maximumPacketSize)\n",
    "    assert len(buffer) >= fhlen + self.fh.remainingLength\n",
    "    assert self.fh.DUP == False, \"[MQTT-2.1.2-1] AUTH reserved bits must be 0\"\n",
    "    assert self.fh.QoS == 0, \"[MQTT-2.1.2-1] AUTH reserved bits must be 0\"\n",
    "    assert self.fh.RETAIN == False, \"[MQTT-2.1.2-1] AUTH reserved bits must be 0\"\n",
    "    curlen = fhlen\n",
    "    curlen += self.reasonCode.unpack(buffer[curlen:])\n",
    "    curlen += self.properties.unpack(buffer[curlen:])[1]\n",
    "    assert curlen == fhlen + self.fh.remainingLength, \\\n",
    "            \"AUTH packet is wrong length %d %d\" % (self.fh.remainingLength, curlen)\n",
    "    return fhlen + self.fh.remainingLength"
   ]
  },
  {
   "cell_type": "code",
   "execution_count": null,
   "metadata": {},
   "outputs": [],
   "source": [
    "b'\\xf00\\x00\\x08authdata\"&\\x00\\x08username\\x00\\x04user&\\x00\\x08password\\x00\\x04pass123'\n",
    "\n",
    "b'\\xf0=\\x00\\x08authdata/&\\x00\\x08username\\x00\\x0cusertesttest&\\x00\\x08password\\x00\\t123123123123'\n",
    "\n",
    "b'\\xf0.\\x00\\x08authdata &\\x00\\x08username\\x00\\x03usr&\\x00\\x08password\\x00\\x03tst123'\n",
    "b'\\xf0\\xed\\x01\\x00\\x08authdata\\xde\\x01&\\x00\\x08username\\x00\\x04user&\\x00\\x08password\\x00\\xc017a87910ab4119cec918a86b9108b326534e2f3b5e99f83280ada8a483c67f3c979aee1d118cb487e1b48cb0fa5d27897f4e88adc606620f2de71a0ac44026142d18327a6c97f1a5083193e4608d68a9f2549899aa1bf522aa4917f541b532d0123'"
   ]
  },
  {
   "cell_type": "code",
   "execution_count": null,
   "metadata": {},
   "outputs": [],
   "source": [
    "import hashlib, binascii, os\n",
    "import sys\n",
    "import codecs\n",
    "import json\n",
    "\n",
    "b = b'\\xf0.\\x00\\x08authdata &\\x00\\x08username\\x00\\x03usr&\\x00\\x08password\\x00\\x03tst123'\n",
    "string =b.decode('utf-8', 'ignore')\n",
    "print(string)\n",
    "\n",
    "recipientData =''.join(e for e in string if e.isalnum())\n",
    "print(recipientData)"
   ]
  },
  {
   "cell_type": "code",
   "execution_count": 2,
   "metadata": {},
   "outputs": [
    {
     "name": "stdout",
     "output_type": "stream",
     "text": [
      "user\n",
      "17a87910ab4119cec918a86b9108b326534e2f3b5e99f83280ada8a483c67f3c979aee1d118cb487e1b48cb0fa5d27897f4e88adc606620f2de71a0ac44026142d18327a6c97f1a5083193e4608d68a9f2549899aa1bf522aa4917f541b532d0123\n"
     ]
    }
   ],
   "source": [
    "# bufferValue = b'\\xf00\\x00\\x08authdata\"&\\x00\\x08username\\x00\\x04user&\\x00\\x08password\\x00\\x04pass123'\n",
    "# bufferValue = b'\\xf0=\\x00\\x08authdata/&\\x00\\x08username\\x00\\x0cusertesttest&\\x00\\x08password\\x00\\t123123123123'\n",
    "bufferValue = b'\\xf0\\xed\\x01\\x00\\x08authdata\\xde\\x01&\\x00\\x08username\\x00\\x04user&\\x00\\x08password\\x00\\xc017a87910ab4119cec918a86b9108b326534e2f3b5e99f83280ada8a483c67f3c979aee1d118cb487e1b48cb0fa5d27897f4e88adc606620f2de71a0ac44026142d18327a6c97f1a5083193e4608d68a9f2549899aa1bf522aa4917f541b532d0123'\n",
    "\n",
    "string =bufferValue.decode('utf-8', 'ignore')\n",
    "source= ''.join(e for e in string if e.isalnum())\n",
    "result=[]\n",
    "tmpUser=source.split('authdatausername')\n",
    "tmpPwd=source.split('password', 1)\n",
    "for par in tmpUser:\n",
    "    if 'password' in par:\n",
    "        result.append(par.split('password')[0])\n",
    "\n",
    "print (result[0])\n",
    "print(tmpPwd[1])"
   ]
  },
  {
   "cell_type": "code",
   "execution_count": null,
   "metadata": {},
   "outputs": [],
   "source": [
    "bufferValue = b'\\xf0.\\x00\\x08authdata &\\x00\\x08user-name\\x00\\x03usr&\\x00\\x08password\\x00\\x03password'\n",
    "\n",
    "string =bufferValue.decode('utf-8', 'ignore')\n",
    "''.join(e for e in string if e.isalnum())"
   ]
  },
  {
   "cell_type": "code",
   "execution_count": null,
   "metadata": {},
   "outputs": [],
   "source": []
  }
 ],
 "metadata": {
  "kernelspec": {
   "display_name": "Python 3",
   "language": "python",
   "name": "python3"
  },
  "language_info": {
   "codemirror_mode": {
    "name": "ipython",
    "version": 3
   },
   "file_extension": ".py",
   "mimetype": "text/x-python",
   "name": "python",
   "nbconvert_exporter": "python",
   "pygments_lexer": "ipython3",
   "version": "3.6.8"
  }
 },
 "nbformat": 4,
 "nbformat_minor": 2
}
