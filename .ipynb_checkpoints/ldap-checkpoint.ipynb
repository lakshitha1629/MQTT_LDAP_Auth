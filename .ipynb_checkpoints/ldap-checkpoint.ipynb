{
 "cells": [
  {
   "cell_type": "code",
   "execution_count": null,
   "metadata": {},
   "outputs": [],
   "source": [
    "import ldap3\n",
    "from ldap3.core.exceptions import LDAPException\n",
    "\n",
    "def _ldap_login(username, password):\n",
    "    try:\n",
    "        with ldap3.Connection('enter_server', user=username, password=password) as conn:\n",
    "            print(conn.result[\"description\"]) # \"success\" if bind is ok\n",
    "            return True\n",
    "    except LDAPException:\n",
    "        print('Unable to connect to LDAP server')\n",
    "        return False\n",
    "\n",
    "_ldap_login(\"enter_username\", \"enter_password\")"
   ]
  }
 ],
 "metadata": {
  "kernelspec": {
   "display_name": "Python 3",
   "language": "python",
   "name": "python3"
  },
  "language_info": {
   "codemirror_mode": {
    "name": "ipython",
    "version": 3
   },
   "file_extension": ".py",
   "mimetype": "text/x-python",
   "name": "python",
   "nbconvert_exporter": "python",
   "pygments_lexer": "ipython3",
   "version": "3.6.8"
  }
 },
 "nbformat": 4,
 "nbformat_minor": 2
}
