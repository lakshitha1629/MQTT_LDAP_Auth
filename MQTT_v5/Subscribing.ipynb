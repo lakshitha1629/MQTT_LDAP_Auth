{
 "cells": [
  {
   "cell_type": "code",
   "execution_count": null,
   "metadata": {},
   "outputs": [],
   "source": [
    "import hashlib, binascii, os\n",
    "import random\n",
    "import time\n",
    "import paho.mqtt.client as mqtt_client\n",
    "from auth import ldap_auth\n",
    "\n",
    "broker=\"broker.emqx.io\"\n",
    "port =1883\n",
    "topic = \"/python/mqtt\"\n",
    "ldap_server = \"ldap.forumsys.com\"\n",
    "username = \"cn=read-only-admin,dc=example,dc=com\"\n",
    "password = \"password\"\n",
    "\n",
    "# generate client ID with pub prefix randomly\n",
    "client_id = f'python-mqtt-{random.randint(0, 100)}'\n",
    "\n",
    "# password hashing\n",
    "def hash_password(password):\n",
    "    \"\"\"Hash a password for storing.\"\"\"\n",
    "    salt = hashlib.sha256(os.urandom(60)).hexdigest().encode('ascii')\n",
    "    pwdhash = hashlib.pbkdf2_hmac('sha512', password.encode('utf-8'), \n",
    "                                salt, 100000)\n",
    "    pwdhash = binascii.hexlify(pwdhash)\n",
    "    return (salt + pwdhash).decode('ascii')\n",
    "\n",
    "# print(hash_password(ldap_password))\n",
    "\n",
    "def connect_mqtt() -> mqtt_client:\n",
    "    def on_connect(client, userdata, flags, reasonCode, properties=None):\n",
    "        if reasonCode == 0:\n",
    "            print(\"Connected to MQTT Broker!\")\n",
    "        else:\n",
    "            print(\"Failed to connect, return code %d\\n\", reasonCode)\n",
    "\n",
    "    client = mqtt_client.Client(client_id, protocol=mqtt_client.MQTTv5)\n",
    "    client.on_connect = on_connect\n",
    "    client.connect(broker, port, keepalive=60, bind_address=\"\", bind_port=0, clean_start=mqtt_client.MQTT_CLEAN_START_FIRST_ONLY, properties=None)\n",
    "    return client\n",
    "\n",
    "\n",
    "def subscribe(client: mqtt_client):\n",
    "    def on_message(client, userdata, msg):\n",
    "        print(f\"Received `{msg.payload.decode()}` from `{msg.topic}` topic\")\n",
    "\n",
    "    client.subscribe(topic)\n",
    "    client.on_message = on_message\n",
    "\n",
    "\n",
    "def run():\n",
    "    client = connect_mqtt()\n",
    "    ldap_status = ldap_auth(ldap_server, username, password)\n",
    "    if(ldap_status):\n",
    "        print(\"LDAP server - Authenticated successfully. \");\n",
    "        subscribe(client)\n",
    "        client.loop_forever()\n",
    "    else:\n",
    "        print(\"LDAP server - User name and password do not match\");\n",
    "    \n",
    "    \n",
    "if __name__ == '__main__':\n",
    "    run()"
   ]
  },
  {
   "cell_type": "code",
   "execution_count": null,
   "metadata": {},
   "outputs": [],
   "source": []
  },
  {
   "cell_type": "code",
   "execution_count": null,
   "metadata": {},
   "outputs": [],
   "source": []
  }
 ],
 "metadata": {
  "kernelspec": {
   "display_name": "Python 3",
   "language": "python",
   "name": "python3"
  },
  "language_info": {
   "codemirror_mode": {
    "name": "ipython",
    "version": 3
   },
   "file_extension": ".py",
   "mimetype": "text/x-python",
   "name": "python",
   "nbconvert_exporter": "python",
   "pygments_lexer": "ipython3",
   "version": "3.6.8"
  }
 },
 "nbformat": 4,
 "nbformat_minor": 2
}
